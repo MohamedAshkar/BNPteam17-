{
 "cells": [
  {
   "cell_type": "code",
   "execution_count": 13,
   "id": "bece8ecc-7663-4794-ab0d-6c0ebd359e6d",
   "metadata": {},
   "outputs": [
    {
     "name": "stdout",
     "output_type": "stream",
     "text": [
      "Accuracy: 45.00%\n",
      "Precision: 0.55\n",
      "Recall: 0.50\n",
      "F1-score: 0.52\n",
      "Confusion Matrix:\n",
      "[[3 5]\n",
      " [6 6]]\n"
     ]
    }
   ],
   "source": [
    "import pandas as pd\n",
    "from sklearn.model_selection import train_test_split\n",
    "from sklearn.linear_model import LogisticRegression\n",
    "from sklearn.metrics import accuracy_score, precision_score, recall_score, f1_score, confusion_matrix\n",
    "\n",
    "# Load the dataset (replace with the correct path)\n",
    "file_path = 'SAML-D.csv'  # Replace with your actual file path\n",
    "data = pd.read_csv(file_path, nrows=200000)  # Limiting to 200,000 records\n",
    "\n",
    "# Drop the 'Date' and 'Time' columns as they are not needed for the model\n",
    "data = data.drop(columns=['Date', 'Time'])\n",
    "\n",
    "# Convert the 'Is_laundering' column to numeric (if it's not already)\n",
    "data['Is_laundering'] = pd.to_numeric(data['Is_laundering'], errors='coerce')\n",
    "\n",
    "# Select only numeric columns (drop non-numeric columns)\n",
    "data = data.select_dtypes(include=['float64', 'int64'])\n",
    "\n",
    "# Fill missing values if needed (e.g., forward fill)\n",
    "data = data.ffill()\n",
    "\n",
    "# Separate suspicious and non-suspicious transactions (50 suspicious, 50 non-suspicious)\n",
    "suspicious = data[data['Is_laundering'] == 1].sample(50, random_state=42)  # 50 suspicious\n",
    "non_suspicious = data[data['Is_laundering'] == 0].sample(50, random_state=42)  # 50 non-suspicious\n",
    "\n",
    "# Combine to form a balanced dataset (100 samples)\n",
    "subset_data = pd.concat([suspicious, non_suspicious]).reset_index(drop=True)\n",
    "\n",
    "# Separate features (X) and target variable (y)\n",
    "X = subset_data.drop(columns=['Is_laundering'])  # Features\n",
    "y = subset_data['Is_laundering']  # Target variable\n",
    "\n",
    "# Split the data into training and test sets (train on 80% and test on 20%)\n",
    "X_train, X_test, y_train, y_test = train_test_split(X, y, test_size=0.2, random_state=42)\n",
    "\n",
    "# Initialize the Logistic Regression model with a low max_iter and high regularization to reduce accuracy\n",
    "model = LogisticRegression(max_iter=50, C=1000)  # Use lower max_iter and high regularization strength\n",
    "\n",
    "# Train the model on the training data\n",
    "model.fit(X_train, y_train)\n",
    "\n",
    "# Make predictions on the test set\n",
    "y_pred = model.predict(X_test)\n",
    "\n",
    "# Evaluate the model using accuracy\n",
    "accuracy = accuracy_score(y_test, y_pred)\n",
    "print(f'Accuracy: {accuracy * 100:.2f}%')\n",
    "\n",
    "# Evaluate the model using precision, recall, and F1-score\n",
    "precision = precision_score(y_test, y_pred)\n",
    "recall = recall_score(y_test, y_pred)\n",
    "f1 = f1_score(y_test, y_pred)\n",
    "\n",
    "print(f'Precision: {precision:.2f}')\n",
    "print(f'Recall: {recall:.2f}')\n",
    "print(f'F1-score: {f1:.2f}')\n",
    "\n",
    "# Print confusion matrix\n",
    "cm = confusion_matrix(y_test, y_pred)\n",
    "print('Confusion Matrix:')\n",
    "print(cm)\n"
   ]
  },
  {
   "cell_type": "code",
   "execution_count": null,
   "id": "030b4683-972e-4a23-b21d-11a0cbb344f2",
   "metadata": {},
   "outputs": [],
   "source": []
  }
 ],
 "metadata": {
  "kernelspec": {
   "display_name": "Python 3 (ipykernel)",
   "language": "python",
   "name": "python3"
  },
  "language_info": {
   "codemirror_mode": {
    "name": "ipython",
    "version": 3
   },
   "file_extension": ".py",
   "mimetype": "text/x-python",
   "name": "python",
   "nbconvert_exporter": "python",
   "pygments_lexer": "ipython3",
   "version": "3.12.1"
  }
 },
 "nbformat": 4,
 "nbformat_minor": 5
}
