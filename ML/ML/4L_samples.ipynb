{
 "cells": [
  {
   "cell_type": "code",
   "execution_count": 76,
   "id": "0dfa971e-2eb7-4c5c-ba39-88b81282c6d7",
   "metadata": {},
   "outputs": [
    {
     "name": "stdout",
     "output_type": "stream",
     "text": [
      "<class 'pandas.core.frame.DataFrame'>\n",
      "RangeIndex: 9504852 entries, 0 to 9504851\n",
      "Data columns (total 12 columns):\n",
      " #   Column                  Dtype  \n",
      "---  ------                  -----  \n",
      " 0   Time                    object \n",
      " 1   Date                    object \n",
      " 2   Sender_account          int64  \n",
      " 3   Receiver_account        int64  \n",
      " 4   Amount                  float64\n",
      " 5   Payment_currency        object \n",
      " 6   Received_currency       object \n",
      " 7   Sender_bank_location    object \n",
      " 8   Receiver_bank_location  object \n",
      " 9   Payment_type            object \n",
      " 10  Is_laundering           int64  \n",
      " 11  Laundering_type         object \n",
      "dtypes: float64(1), int64(3), object(8)\n",
      "memory usage: 870.2+ MB\n",
      "None\n",
      "       Time        Date  Sender_account  Receiver_account    Amount  \\\n",
      "0  10:35:19  2022-10-07      8724731955        2769355426   1459.15   \n",
      "1  10:35:20  2022-10-07      1491989064        8401255335   6019.64   \n",
      "2  10:35:20  2022-10-07       287305149        4404767002  14328.44   \n",
      "3  10:35:21  2022-10-07      5376652437        9600420220  11895.00   \n",
      "4  10:35:21  2022-10-07      9614186178        3803336972    115.25   \n",
      "\n",
      "  Payment_currency Received_currency Sender_bank_location  \\\n",
      "0        UK pounds         UK pounds                   UK   \n",
      "1        UK pounds            Dirham                   UK   \n",
      "2        UK pounds         UK pounds                   UK   \n",
      "3        UK pounds         UK pounds                   UK   \n",
      "4        UK pounds         UK pounds                   UK   \n",
      "\n",
      "  Receiver_bank_location  Payment_type  Is_laundering       Laundering_type  \n",
      "0                     UK  Cash Deposit              0  Normal_Cash_Deposits  \n",
      "1                    UAE  Cross-border              0        Normal_Fan_Out  \n",
      "2                     UK        Cheque              0  Normal_Small_Fan_Out  \n",
      "3                     UK           ACH              0         Normal_Fan_In  \n",
      "4                     UK  Cash Deposit              0  Normal_Cash_Deposits  \n"
     ]
    }
   ],
   "source": [
    "import pandas as pd\n",
    "\n",
    "df = pd.read_csv('SAML-D.csv')\n",
    "print(df.info())\n",
    "print(df.head())\n"
   ]
  },
  {
   "cell_type": "code",
   "execution_count": 77,
   "id": "15684476-c8b9-4882-9bd2-4c411d6e9888",
   "metadata": {},
   "outputs": [
    {
     "name": "stdout",
     "output_type": "stream",
     "text": [
      "<class 'pandas.core.frame.DataFrame'>\n",
      "RangeIndex: 9504852 entries, 0 to 9504851\n",
      "Data columns (total 11 columns):\n",
      " #   Column                  Dtype  \n",
      "---  ------                  -----  \n",
      " 0   Date                    object \n",
      " 1   Sender_account          int64  \n",
      " 2   Receiver_account        int64  \n",
      " 3   Amount                  float64\n",
      " 4   Payment_currency        object \n",
      " 5   Received_currency       object \n",
      " 6   Sender_bank_location    object \n",
      " 7   Receiver_bank_location  object \n",
      " 8   Payment_type            object \n",
      " 9   Is_laundering           int64  \n",
      " 10  Laundering_type         object \n",
      "dtypes: float64(1), int64(3), object(7)\n",
      "memory usage: 797.7+ MB\n",
      "None\n",
      "         Date  Sender_account  Receiver_account    Amount Payment_currency  \\\n",
      "0  2022-10-07      8724731955        2769355426   1459.15        UK pounds   \n",
      "1  2022-10-07      1491989064        8401255335   6019.64        UK pounds   \n",
      "2  2022-10-07       287305149        4404767002  14328.44        UK pounds   \n",
      "3  2022-10-07      5376652437        9600420220  11895.00        UK pounds   \n",
      "4  2022-10-07      9614186178        3803336972    115.25        UK pounds   \n",
      "\n",
      "  Received_currency Sender_bank_location Receiver_bank_location  Payment_type  \\\n",
      "0         UK pounds                   UK                     UK  Cash Deposit   \n",
      "1            Dirham                   UK                    UAE  Cross-border   \n",
      "2         UK pounds                   UK                     UK        Cheque   \n",
      "3         UK pounds                   UK                     UK           ACH   \n",
      "4         UK pounds                   UK                     UK  Cash Deposit   \n",
      "\n",
      "   Is_laundering       Laundering_type  \n",
      "0              0  Normal_Cash_Deposits  \n",
      "1              0        Normal_Fan_Out  \n",
      "2              0  Normal_Small_Fan_Out  \n",
      "3              0         Normal_Fan_In  \n",
      "4              0  Normal_Cash_Deposits  \n"
     ]
    }
   ],
   "source": [
    "df = df.drop(columns=['Time'])\n",
    "print(df.info())\n",
    "print(df.head())\n"
   ]
  },
  {
   "cell_type": "code",
   "execution_count": 78,
   "id": "57f4f140-5d6b-428c-91c3-3e10db327f18",
   "metadata": {},
   "outputs": [],
   "source": [
    "laundering1_df = df[df['Is_laundering'] == 1]"
   ]
  },
  {
   "cell_type": "code",
   "execution_count": 79,
   "id": "d1f332a7-7c09-445d-ab5e-34dba788eec6",
   "metadata": {},
   "outputs": [],
   "source": [
    "normal1_df = df[df['Is_laundering'] == 0]\n",
    "laundering_df = df.sample(n=400000, random_state=42)"
   ]
  },
  {
   "cell_type": "code",
   "execution_count": 80,
   "id": "ab259d37-12e6-43f6-8c01-7bd444a66a05",
   "metadata": {
    "scrolled": true
   },
   "outputs": [
    {
     "name": "stdout",
     "output_type": "stream",
     "text": [
      "               Date  Sender_account  Receiver_account    Amount  \\\n",
      "42444    2022-10-08      6077900993        6609117934   2299.89   \n",
      "8169290  2023-07-08      5459041199         816242179    211.90   \n",
      "7894834  2023-06-29      4641798002        5214523833   9481.26   \n",
      "4265755  2023-02-27      1475899462        6151077027  11609.92   \n",
      "7437932  2023-06-14      8046287266        3423799664  17772.58   \n",
      "...             ...             ...               ...       ...   \n",
      "9486435  2023-08-22       312790550        6205888046  43854.31   \n",
      "6254960  2023-05-05      1366863804        5540271235   5147.22   \n",
      "6464464  2023-05-12       459510224        4095587231  23683.60   \n",
      "7374488  2023-06-12      8390626545        7612687594    474.48   \n",
      "4114333  2023-02-22      6370373045        6316532366  16720.79   \n",
      "\n",
      "        Payment_currency Received_currency Sender_bank_location  \\\n",
      "42444          UK pounds         UK pounds                   UK   \n",
      "8169290        UK pounds         UK pounds                   UK   \n",
      "7894834        UK pounds         UK pounds                   UK   \n",
      "4265755        UK pounds         UK pounds                   UK   \n",
      "7437932        UK pounds         UK pounds                   UK   \n",
      "...                  ...               ...                  ...   \n",
      "9486435        UK pounds         UK pounds                   UK   \n",
      "6254960        UK pounds         UK pounds                   UK   \n",
      "6464464        UK pounds             Naira                   UK   \n",
      "7374488        UK pounds         UK pounds                   UK   \n",
      "4114333        UK pounds         UK pounds                   UK   \n",
      "\n",
      "        Receiver_bank_location  Payment_type  Is_laundering  \\\n",
      "42444                       UK    Debit card              0   \n",
      "8169290                     UK        Cheque              0   \n",
      "7894834                     UK           ACH              0   \n",
      "4265755                     UK    Debit card              0   \n",
      "7437932                     UK           ACH              0   \n",
      "...                        ...           ...            ...   \n",
      "9486435                     UK    Debit card              0   \n",
      "6254960                     UK   Credit card              0   \n",
      "6464464                Nigeria  Cross-border              0   \n",
      "7374488                     UK  Cash Deposit              0   \n",
      "4114333                     UK           ACH              0   \n",
      "\n",
      "              Laundering_type  \n",
      "42444            Normal_Group  \n",
      "8169290  Normal_Small_Fan_Out  \n",
      "7894834         Normal_Fan_In  \n",
      "4265755        Normal_Fan_Out  \n",
      "7437932         Normal_Fan_In  \n",
      "...                       ...  \n",
      "9486435         Normal_Mutual  \n",
      "6254960        Normal_Fan_Out  \n",
      "6464464    Normal_Plus_Mutual  \n",
      "7374488  Normal_Cash_Deposits  \n",
      "4114333        Normal_Fan_Out  \n",
      "\n",
      "[400000 rows x 11 columns]\n"
     ]
    }
   ],
   "source": [
    "print(laundering_df)"
   ]
  },
  {
   "cell_type": "code",
   "execution_count": 81,
   "id": "68bbf122-8ca7-49a5-9539-600dd97469e1",
   "metadata": {},
   "outputs": [],
   "source": [
    "#print(normal_df)"
   ]
  },
  {
   "cell_type": "code",
   "execution_count": 82,
   "id": "f486b136-bed0-4ba1-8de3-7b1995dddcb9",
   "metadata": {},
   "outputs": [],
   "source": [
    "#laundering_sample = laundering_df.sample(n=50, random_state=42)"
   ]
  },
  {
   "cell_type": "code",
   "execution_count": 83,
   "id": "1b635785-98eb-49c2-97d8-95f9c44eff66",
   "metadata": {},
   "outputs": [],
   "source": [
    "#normal_sample = normal_df.sample(n=1000, random_state=42)"
   ]
  },
  {
   "cell_type": "code",
   "execution_count": 84,
   "id": "d96d490c-54f9-450f-bea3-788b430a202a",
   "metadata": {},
   "outputs": [],
   "source": [
    "#combined_df = pd.concat([laundering_df , normal_df])"
   ]
  },
  {
   "cell_type": "code",
   "execution_count": 85,
   "id": "749f62a2-5b05-4e1d-9ffa-2fc2149a540e",
   "metadata": {},
   "outputs": [
    {
     "name": "stdout",
     "output_type": "stream",
     "text": [
      "<class 'pandas.core.frame.DataFrame'>\n",
      "Index: 400000 entries, 42444 to 4114333\n",
      "Data columns (total 11 columns):\n",
      " #   Column                  Non-Null Count   Dtype  \n",
      "---  ------                  --------------   -----  \n",
      " 0   Date                    400000 non-null  object \n",
      " 1   Sender_account          400000 non-null  int64  \n",
      " 2   Receiver_account        400000 non-null  int64  \n",
      " 3   Amount                  400000 non-null  float64\n",
      " 4   Payment_currency        400000 non-null  object \n",
      " 5   Received_currency       400000 non-null  object \n",
      " 6   Sender_bank_location    400000 non-null  object \n",
      " 7   Receiver_bank_location  400000 non-null  object \n",
      " 8   Payment_type            400000 non-null  object \n",
      " 9   Is_laundering           400000 non-null  int64  \n",
      " 10  Laundering_type         400000 non-null  object \n",
      "dtypes: float64(1), int64(3), object(7)\n",
      "memory usage: 36.6+ MB\n",
      "None\n"
     ]
    }
   ],
   "source": [
    "print(laundering_df.info())"
   ]
  },
  {
   "cell_type": "code",
   "execution_count": 86,
   "id": "284dd8bc-de9c-4e13-bdb3-7746eebcec8b",
   "metadata": {},
   "outputs": [],
   "source": [
    "#print(combined_df.head())"
   ]
  },
  {
   "cell_type": "code",
   "execution_count": 87,
   "id": "8c131786-9cf7-47cb-b8e7-ee986c478dc8",
   "metadata": {},
   "outputs": [],
   "source": [
    "#print(combined_df.tail())"
   ]
  },
  {
   "cell_type": "code",
   "execution_count": 88,
   "id": "c0a15218-ec0c-4bdd-9b6f-5d14ef94f7b2",
   "metadata": {},
   "outputs": [],
   "source": [
    "combined_df = laundering_df.dropna()"
   ]
  },
  {
   "cell_type": "code",
   "execution_count": 89,
   "id": "4f204e68-a920-4850-88bf-500f4d89b5f7",
   "metadata": {},
   "outputs": [],
   "source": [
    "combined_df['Date'] = pd.to_datetime(combined_df['Date'], format='%Y-%m-%d')\n"
   ]
  },
  {
   "cell_type": "code",
   "execution_count": 90,
   "id": "d8e1ca0a-db86-4b53-8915-3a8f6a2e297f",
   "metadata": {},
   "outputs": [],
   "source": [
    "combined_df['Month'] = combined_df['Date'].dt.month"
   ]
  },
  {
   "cell_type": "code",
   "execution_count": 91,
   "id": "447e9e36-93ff-4bf0-b322-064e5b798487",
   "metadata": {},
   "outputs": [],
   "source": [
    "combined_df = pd.get_dummies(combined_df, columns=['Payment_type', 'Sender_bank_location', 'Receiver_bank_location', 'Payment_currency', 'Received_currency', 'Laundering_type'])"
   ]
  },
  {
   "cell_type": "code",
   "execution_count": 92,
   "id": "d1c88bb9-c140-43d1-8ba7-d047e0ced41c",
   "metadata": {},
   "outputs": [
    {
     "name": "stdout",
     "output_type": "stream",
     "text": [
      "              Date  Sender_account  Receiver_account    Amount  Is_laundering  \\\n",
      "42444   2022-10-08      6077900993        6609117934   2299.89              0   \n",
      "8169290 2023-07-08      5459041199         816242179    211.90              0   \n",
      "7894834 2023-06-29      4641798002        5214523833   9481.26              0   \n",
      "4265755 2023-02-27      1475899462        6151077027  11609.92              0   \n",
      "7437932 2023-06-14      8046287266        3423799664  17772.58              0   \n",
      "\n",
      "         Month  Payment_type_ACH  Payment_type_Cash Deposit  \\\n",
      "42444       10             False                      False   \n",
      "8169290      7             False                      False   \n",
      "7894834      6              True                      False   \n",
      "4265755      2             False                      False   \n",
      "7437932      6              True                      False   \n",
      "\n",
      "         Payment_type_Cash Withdrawal  Payment_type_Cheque  ...  \\\n",
      "42444                           False                False  ...   \n",
      "8169290                         False                 True  ...   \n",
      "7894834                         False                False  ...   \n",
      "4265755                         False                False  ...   \n",
      "7437932                         False                False  ...   \n",
      "\n",
      "         Laundering_type_Normal_Periodical  \\\n",
      "42444                                False   \n",
      "8169290                              False   \n",
      "7894834                              False   \n",
      "4265755                              False   \n",
      "7437932                              False   \n",
      "\n",
      "         Laundering_type_Normal_Plus_Mutual  \\\n",
      "42444                                 False   \n",
      "8169290                               False   \n",
      "7894834                               False   \n",
      "4265755                               False   \n",
      "7437932                               False   \n",
      "\n",
      "         Laundering_type_Normal_Small_Fan_Out  \\\n",
      "42444                                   False   \n",
      "8169290                                  True   \n",
      "7894834                                 False   \n",
      "4265755                                 False   \n",
      "7437932                                 False   \n",
      "\n",
      "         Laundering_type_Normal_single_large  Laundering_type_Over-Invoicing  \\\n",
      "42444                                  False                           False   \n",
      "8169290                                False                           False   \n",
      "7894834                                False                           False   \n",
      "4265755                                False                           False   \n",
      "7437932                                False                           False   \n",
      "\n",
      "         Laundering_type_Scatter-Gather  Laundering_type_Single_large  \\\n",
      "42444                             False                         False   \n",
      "8169290                           False                         False   \n",
      "7894834                           False                         False   \n",
      "4265755                           False                         False   \n",
      "7437932                           False                         False   \n",
      "\n",
      "         Laundering_type_Smurfing  Laundering_type_Stacked Bipartite  \\\n",
      "42444                       False                              False   \n",
      "8169290                     False                              False   \n",
      "7894834                     False                              False   \n",
      "4265755                     False                              False   \n",
      "7437932                     False                              False   \n",
      "\n",
      "         Laundering_type_Structuring  \n",
      "42444                          False  \n",
      "8169290                        False  \n",
      "7894834                        False  \n",
      "4265755                        False  \n",
      "7437932                        False  \n",
      "\n",
      "[5 rows x 103 columns]\n"
     ]
    }
   ],
   "source": [
    "print(combined_df.head())"
   ]
  },
  {
   "cell_type": "code",
   "execution_count": 93,
   "id": "4158efd3-e313-487c-b93f-07c77dbae359",
   "metadata": {},
   "outputs": [],
   "source": [
    "train_data = combined_df[(combined_df['Date'] >= '2022-10-01') & (combined_df['Date'] <= '2023-05-31')]"
   ]
  },
  {
   "cell_type": "code",
   "execution_count": 94,
   "id": "9aee8a6b-a123-43b0-ae99-031c65dcd7d0",
   "metadata": {},
   "outputs": [],
   "source": [
    "test_data = combined_df[(combined_df['Date'] >= '2023-06-01') & (combined_df['Date'] <= '2023-08-31')]"
   ]
  },
  {
   "cell_type": "code",
   "execution_count": 95,
   "id": "f059e09c-0f42-423e-ab69-c281a937d483",
   "metadata": {},
   "outputs": [],
   "source": [
    "X_train = train_data.drop(columns=['Is_laundering', 'Date'])\n",
    "y_train = train_data['Is_laundering']\n",
    "X_test = test_data.drop(columns=['Is_laundering', 'Date'])\n",
    "y_test = test_data['Is_laundering']"
   ]
  },
  {
   "cell_type": "code",
   "execution_count": 96,
   "id": "a71e1282-2868-41cf-8f1a-050ac9ce86cb",
   "metadata": {},
   "outputs": [
    {
     "name": "stdout",
     "output_type": "stream",
     "text": [
      "         Sender_account  Receiver_account    Amount  Month  Payment_type_ACH  \\\n",
      "42444        6077900993        6609117934   2299.89     10             False   \n",
      "4265755      1475899462        6151077027  11609.92      2             False   \n",
      "1199583      9846334755         435102466   6893.53     11             False   \n",
      "3035238      6185897063        5645102341   3129.58      1             False   \n",
      "2365091      2920657437        9088516969  19685.92     12             False   \n",
      "...                 ...               ...       ...    ...               ...   \n",
      "165417       7777102570        8328236263   3669.12     10             False   \n",
      "6267441      7662100169        6093882280  15466.20      5             False   \n",
      "6254960      1366863804        5540271235   5147.22      5             False   \n",
      "6464464       459510224        4095587231  23683.60      5             False   \n",
      "4114333      6370373045        6316532366  16720.79      2              True   \n",
      "\n",
      "         Payment_type_Cash Deposit  Payment_type_Cash Withdrawal  \\\n",
      "42444                        False                         False   \n",
      "4265755                      False                         False   \n",
      "1199583                      False                         False   \n",
      "3035238                      False                         False   \n",
      "2365091                      False                         False   \n",
      "...                            ...                           ...   \n",
      "165417                       False                         False   \n",
      "6267441                      False                         False   \n",
      "6254960                      False                         False   \n",
      "6464464                      False                         False   \n",
      "4114333                      False                         False   \n",
      "\n",
      "         Payment_type_Cheque  Payment_type_Credit card  \\\n",
      "42444                  False                     False   \n",
      "4265755                False                     False   \n",
      "1199583                False                      True   \n",
      "3035238                False                      True   \n",
      "2365091                False                      True   \n",
      "...                      ...                       ...   \n",
      "165417                 False                      True   \n",
      "6267441                False                     False   \n",
      "6254960                False                      True   \n",
      "6464464                False                     False   \n",
      "4114333                False                     False   \n",
      "\n",
      "         Payment_type_Cross-border  ...  Laundering_type_Normal_Periodical  \\\n",
      "42444                        False  ...                              False   \n",
      "4265755                      False  ...                              False   \n",
      "1199583                      False  ...                              False   \n",
      "3035238                      False  ...                              False   \n",
      "2365091                      False  ...                              False   \n",
      "...                            ...  ...                                ...   \n",
      "165417                       False  ...                              False   \n",
      "6267441                      False  ...                              False   \n",
      "6254960                      False  ...                              False   \n",
      "6464464                       True  ...                              False   \n",
      "4114333                      False  ...                              False   \n",
      "\n",
      "         Laundering_type_Normal_Plus_Mutual  \\\n",
      "42444                                 False   \n",
      "4265755                               False   \n",
      "1199583                               False   \n",
      "3035238                               False   \n",
      "2365091                               False   \n",
      "...                                     ...   \n",
      "165417                                False   \n",
      "6267441                               False   \n",
      "6254960                               False   \n",
      "6464464                                True   \n",
      "4114333                               False   \n",
      "\n",
      "         Laundering_type_Normal_Small_Fan_Out  \\\n",
      "42444                                   False   \n",
      "4265755                                 False   \n",
      "1199583                                 False   \n",
      "3035238                                  True   \n",
      "2365091                                  True   \n",
      "...                                       ...   \n",
      "165417                                   True   \n",
      "6267441                                 False   \n",
      "6254960                                 False   \n",
      "6464464                                 False   \n",
      "4114333                                 False   \n",
      "\n",
      "         Laundering_type_Normal_single_large  Laundering_type_Over-Invoicing  \\\n",
      "42444                                  False                           False   \n",
      "4265755                                False                           False   \n",
      "1199583                                False                           False   \n",
      "3035238                                False                           False   \n",
      "2365091                                False                           False   \n",
      "...                                      ...                             ...   \n",
      "165417                                 False                           False   \n",
      "6267441                                False                           False   \n",
      "6254960                                False                           False   \n",
      "6464464                                False                           False   \n",
      "4114333                                False                           False   \n",
      "\n",
      "         Laundering_type_Scatter-Gather  Laundering_type_Single_large  \\\n",
      "42444                             False                         False   \n",
      "4265755                           False                         False   \n",
      "1199583                           False                         False   \n",
      "3035238                           False                         False   \n",
      "2365091                           False                         False   \n",
      "...                                 ...                           ...   \n",
      "165417                            False                         False   \n",
      "6267441                           False                         False   \n",
      "6254960                           False                         False   \n",
      "6464464                           False                         False   \n",
      "4114333                           False                         False   \n",
      "\n",
      "         Laundering_type_Smurfing  Laundering_type_Stacked Bipartite  \\\n",
      "42444                       False                              False   \n",
      "4265755                     False                              False   \n",
      "1199583                     False                              False   \n",
      "3035238                     False                              False   \n",
      "2365091                     False                              False   \n",
      "...                           ...                                ...   \n",
      "165417                      False                              False   \n",
      "6267441                     False                              False   \n",
      "6254960                     False                              False   \n",
      "6464464                     False                              False   \n",
      "4114333                     False                              False   \n",
      "\n",
      "         Laundering_type_Structuring  \n",
      "42444                          False  \n",
      "4265755                        False  \n",
      "1199583                        False  \n",
      "3035238                        False  \n",
      "2365091                        False  \n",
      "...                              ...  \n",
      "165417                         False  \n",
      "6267441                        False  \n",
      "6254960                        False  \n",
      "6464464                        False  \n",
      "4114333                        False  \n",
      "\n",
      "[296434 rows x 101 columns]\n"
     ]
    }
   ],
   "source": [
    "print(X_train)"
   ]
  },
  {
   "cell_type": "code",
   "execution_count": 98,
   "id": "e70a8bfc-714b-4ac0-b4e1-a719788f9ff3",
   "metadata": {},
   "outputs": [
    {
     "name": "stdout",
     "output_type": "stream",
     "text": [
      "Model saved to 'random_forest_model.pkl'\n"
     ]
    }
   ],
   "source": [
    "import pickle\n",
    "from sklearn.ensemble import RandomForestClassifier\n",
    "model = RandomForestClassifier(n_estimators=100, random_state=42)\n",
    "model.fit(X_train, y_train)\n",
    "\n",
    "with open('random_forest_model.pkl', 'wb') as file:\n",
    "    pickle.dump(model, file)\n",
    "\n",
    "print(\"Model saved to 'random_forest_model.pkl'\")\n",
    "\n"
   ]
  },
  {
   "cell_type": "code",
   "execution_count": 99,
   "id": "97c60ffe-d0ca-4f6b-9ae3-6fe8eee8b043",
   "metadata": {},
   "outputs": [
    {
     "name": "stdout",
     "output_type": "stream",
     "text": [
      "Accuracy: 1.00\n",
      "              precision    recall  f1-score   support\n",
      "\n",
      "           0       1.00      1.00      1.00    103449\n",
      "           1       1.00      1.00      1.00       117\n",
      "\n",
      "    accuracy                           1.00    103566\n",
      "   macro avg       1.00      1.00      1.00    103566\n",
      "weighted avg       1.00      1.00      1.00    103566\n",
      "\n"
     ]
    }
   ],
   "source": [
    "from sklearn.metrics import accuracy_score, classification_report\n",
    "\n",
    "# Make predictions\n",
    "y_pred = model.predict(X_test)\n",
    "\n",
    "# Evaluate accuracy\n",
    "accuracy = accuracy_score(y_test, y_pred)\n",
    "print(f'Accuracy: {accuracy:.2f}')\n",
    "\n",
    "# Display detailed classification report\n",
    "print(classification_report(y_test, y_pred))\n"
   ]
  },
  {
   "cell_type": "code",
   "execution_count": 100,
   "id": "fc2d2b1f-e6d0-4d4f-b25e-e018f76b049e",
   "metadata": {},
   "outputs": [
    {
     "data": {
      "image/png": "[encoded data removed]",
      "text/plain": [
       "<Figure size 640x480 with 1 Axes>"
      ]
     },
     "metadata": {},
     "output_type": "display_data"
    },
    {
     "data": {
      "text/plain": [
       "'\\nDesign Document:\\n- Describe the architecture, algorithms, and methodologies.\\n- Include data preprocessing steps, feature engineering, model selection, and evaluation criteria.\\n\\nPitch Document:\\n- Summarize key features and benefits.\\n- Highlight accuracy, scalability, and integration capabilities.\\n\\nImplementation:\\n- Provide detailed instructions for deployment and usage.\\n'"
      ]
     },
     "execution_count": 100,
     "metadata": {},
     "output_type": "execute_result"
    }
   ],
   "source": [
    "# Feature importance\n",
    "import matplotlib.pyplot as plt\n",
    "\n",
    "# Plot feature importance\n",
    "feature_importances = pd.Series(model.feature_importances_, index=X_train.columns)\n",
    "feature_importances.nlargest(10).plot(kind='barh')\n",
    "plt.show()\n",
    "\n",
    "# Documentation (pseudo-code, not actual Python code)\n",
    "'''\n",
    "Design Document:\n",
    "- Describe the architecture, algorithms, and methodologies.\n",
    "- Include data preprocessing steps, feature engineering, model selection, and evaluation criteria.\n",
    "\n",
    "Pitch Document:\n",
    "- Summarize key features and benefits.\n",
    "- Highlight accuracy, scalability, and integration capabilities.\n",
    "\n",
    "Implementation:\n",
    "- Provide detailed instructions for deployment and usage.\n",
    "'''\n"
   ]
  },
  {
   "cell_type": "code",
   "execution_count": 101,
   "id": "6f19519f-6ca5-4a58-9964-bf2aeb492b1d",
   "metadata": {},
   "outputs": [
    {
     "name": "stdout",
     "output_type": "stream",
     "text": [
      "Accuracy: 1.00\n",
      "              precision    recall  f1-score   support\n",
      "\n",
      "           0       1.00      1.00      1.00    103449\n",
      "           1       1.00      1.00      1.00       117\n",
      "\n",
      "    accuracy                           1.00    103566\n",
      "   macro avg       1.00      1.00      1.00    103566\n",
      "weighted avg       1.00      1.00      1.00    103566\n",
      "\n"
     ]
    },
    {
     "data": {
      "image/png": "[encoded data removed]",
      "text/plain": [
       "<Figure size 640x480 with 1 Axes>"
      ]
     },
     "metadata": {},
     "output_type": "display_data"
    }
   ],
   "source": [
    "from sklearn.metrics import accuracy_score, classification_report\n",
    "\n",
    "# Make predictions\n",
    "y_pred = model.predict(X_test)\n",
    "\n",
    "# Evaluate accuracy\n",
    "accuracy = accuracy_score(y_test, y_pred)\n",
    "print(f'Accuracy: {accuracy:.2f}')\n",
    "\n",
    "# Display detailed classification report\n",
    "print(classification_report(y_test, y_pred))\n",
    "\n",
    "# Feature importance\n",
    "import matplotlib.pyplot as plt\n",
    "\n",
    "# Plot feature importance\n",
    "feature_importances = pd.Series(model.feature_importances_, index=X_train.columns)\n",
    "feature_importances.nlargest(10).plot(kind='barh')\n",
    "plt.show()\n"
   ]
  },
  {
   "cell_type": "code",
   "execution_count": 102,
   "id": "0a0ab205-f327-428a-87b7-b531144c3ec6",
   "metadata": {},
   "outputs": [
    {
     "name": "stdout",
     "output_type": "stream",
     "text": [
      "Number of laundering transactions in the training set: 272\n"
     ]
    }
   ],
   "source": [
    "# Load the dataset (assuming the dataset is already preprocessed and split as discussed earlier)\n",
    "import pandas as pd\n",
    "\n",
    "# Count the number of laundering transactions in the training set\n",
    "laundering_transactions_count = y_train.value_counts()[1]\n",
    "\n",
    "# Display the count\n",
    "print(f'Number of laundering transactions in the training set: {laundering_transactions_count}')\n"
   ]
  },
  {
   "cell_type": "code",
   "execution_count": 103,
   "id": "6243fab9-3d5a-49cb-b8ad-8db37af1c81d",
   "metadata": {},
   "outputs": [],
   "source": [
    "# Define the input data (example)\n",
    "data = {\n",
    "    'Date': ['2023-08-05'],\n",
    "    'Sender_account': ['3723283502'],\n",
    "    'Receiver_account': ['1642960898'],\n",
    "    'Amount': [8855.221194],\n",
    "    'Payment_currency': ['UK pound'],\n",
    "    'Received_currency': ['Mexican Peso'],\n",
    "    'Sender_bank_location': ['UK'],\n",
    "    'Receiver_bank_location': ['Mexico'],\n",
    "    'Payment_type': ['ACH'],\n",
    "    'Laundering_type':['Behavioural_Change_2']\n",
    "}\n",
    "\n",
    "input_df = pd.DataFrame(data)\n",
    "\n",
    "# Preprocess the input data\n",
    "input_df = pd.get_dummies(input_df, columns=['Payment_type', 'Sender_bank_location', 'Receiver_bank_location', 'Payment_currency', 'Received_currency'])\n",
    "\n",
    "# Ensure all required columns are present\n",
    "input_df = input_df.reindex(columns=X_train.columns, fill_value=0)\n"
   ]
  },
  {
   "cell_type": "code",
   "execution_count": null,
   "id": "c5fb3c9c-526a-4c8d-b5e1-ade74fb30563",
   "metadata": {},
   "outputs": [],
   "source": []
  },
  {
   "cell_type": "code",
   "execution_count": 104,
   "id": "ab555aa8-d4f2-4452-bc2a-c5c0407d7d0f",
   "metadata": {},
   "outputs": [
    {
     "name": "stdout",
     "output_type": "stream",
     "text": [
      "Is the transaction suspicious? No\n",
      "Type of laundering: 0\n"
     ]
    }
   ],
   "source": [
    "# Make predictions\n",
    "y_pred = model.predict(input_df)\n",
    "y_pred_proba = model.predict_proba(input_df)\n",
    "\n",
    "# Map prediction to class names\n",
    "is_laundering = y_pred[0]\n",
    "\n",
    "# Output the results\n",
    "print(f'Is the transaction suspicious? {\"Yes\" if is_laundering else \"No\"}')\n",
    "\n",
    "# For Laundering type, assuming it's a classification problem with more classes\n",
    "# Example: ['Normal', 'Structuring', 'Large_Scale'] as possible labels\n",
    "laundering_types = model.classes_\n",
    "predicted_laundering_type = laundering_types[y_pred[0]]\n",
    "\n",
    "print(f'Type of laundering: {predicted_laundering_type}')\n"
   ]
  },
  {
   "cell_type": "code",
   "execution_count": null,
   "id": "cdf596eb-3e66-4002-980b-5c5015587121",
   "metadata": {},
   "outputs": [],
   "source": [
    "print(y_pred)\n",
    "print(y_pred_proba)"
   ]
  },
  {
   "cell_type": "code",
   "execution_count": null,
   "id": "4dd9ccc1-8378-40e3-b28f-03e0c7794454",
   "metadata": {},
   "outputs": [],
   "source": []
  },
  {
   "cell_type": "code",
   "execution_count": null,
   "id": "9eabe0a3-5312-4bdc-aa26-5cf5666084a4",
   "metadata": {},
   "outputs": [],
   "source": [
    "import pandas as pd\n",
    "from sklearn.ensemble import RandomForestClassifier\n",
    "\n",
    "# Load the dataset\n",
    "df = pd.read_csv('SAML-D.csv')\n",
    "\n",
    "# Randomly sample 200,000 rows from the dataset\n",
    "sampled_df = df.sample(n=200000, random_state=42)\n",
    "\n",
    "# Preprocessing: Remove 'Time' column and convert 'Date' to datetime\n",
    "sampled_df = sampled_df.drop(columns=['Time'])\n",
    "sampled_df['Date'] = pd.to_datetime(sampled_df['Date'], format='%Y-%m-%d')\n",
    "\n",
    "# Feature engineering: Extracting the month from the Date column\n",
    "sampled_df['Month'] = sampled_df['Date'].dt.month\n",
    "\n",
    "# Check if all required columns exist\n",
    "required_columns = ['Payment_type', 'Sender_bank_location', 'Receiver_bank_location', 'Payment_currency', 'Received_currency', 'Laundering_type']\n",
    "missing_columns = [col for col in required_columns if col not in sampled_df.columns]\n",
    "if missing_columns:\n",
    "    raise KeyError(f\"Missing columns in the DataFrame: {missing_columns}\")\n",
    "\n",
    "# One-hot encoding for categorical variables\n",
    "sampled_df = pd.get_dummies(sampled_df, columns=required_columns)\n",
    "\n",
    "# Split into training and testing sets\n",
    "train_data = sampled_df[sampled_df['Date'] < '2023-06-01']\n",
    "test_data = sampled_df[sampled_df['Date'] >= '2023-06-01']\n",
    "X_train = train_data.drop(columns=['Is_laundering', 'Date'])\n",
    "y_train = train_data['Is_laundering']\n",
    "X_test = test_data.drop(columns=['Is_laundering', 'Date'])\n",
    "y_test = test_data['Is_laundering']\n",
    "\n",
    "# Initialize and train the Random Forest model\n",
    "model = RandomForestClassifier(n_estimators=100, random_state=42)\n",
    "model.fit(X_train, y_train)\n"
   ]
  },
  {
   "cell_type": "code",
   "execution_count": null,
   "id": "5900d46a-8a6a-4eb1-8868-92aa2bf6441c",
   "metadata": {},
   "outputs": [],
   "source": [
    "# Define the input data (example)\n",
    "data = {\n",
    "    'Time': ['10:35:21'],\n",
    "    'Date': ['07-10-2022'],\n",
    "    'Sender_account': ['9614186178'],\n",
    "    'Receiver_account': ['3803336972'],\n",
    "    'Amount': [115.25],\n",
    "    'Payment_currency': ['UK pounds'],\n",
    "    'Received_currency': ['UK pounds'],\n",
    "    'Sender_bank_location': ['UK'],\n",
    "    'Receiver_bank_location': ['UK'],\n",
    "    'Payment_type': ['Cash Deposit']\n",
    "}\n",
    "\n",
    "input_df = pd.DataFrame(data)\n",
    "\n",
    "# Preprocess the input data\n",
    "input_df['Time'] = pd.to_datetime(input_df['Date'] + ' ' + input_df['Time'])\n",
    "input_df['Date'] = pd.to_datetime(input_df['Date'])\n",
    "input_df['Time'] = input_df['Time'].astype('int64') // 10**9\n",
    "input_df['Date'] = input_df['Date'].astype('int64') // 10**9\n",
    "input_df = pd.get_dummies(input_df, columns=['Payment_type', 'Sender_bank_location', 'Receiver_bank_location', 'Payment_currency', 'Received_currency'])\n",
    "\n",
    "# Ensure all required columns are present\n",
    "input_df = input_df.reindex(columns=X_train.columns, fill_value=0)\n"
   ]
  },
  {
   "cell_type": "code",
   "execution_count": null,
   "id": "ce7cf716-cf5e-4b57-a869-61681d5cd2ba",
   "metadata": {},
   "outputs": [],
   "source": [
    "# Make predictions\n",
    "y_pred = model.predict(input_df)\n",
    "y_pred_proba = model.predict_proba(input_df)\n",
    "\n",
    "# Map prediction to class names\n",
    "is_laundering = y_pred[0]\n",
    "\n",
    "# Output the results\n",
    "print(f'Is the transaction suspicious? {\"Yes\" if is_laundering else \"No\"}')\n",
    "\n",
    "# For Laundering type, assuming it's a classification problem with more classes\n",
    "# Example: ['Normal', 'Structuring', 'Large_Scale'] as possible labels\n",
    "laundering_types = ['Normal', 'Structuring', 'Large_Scale']\n",
    "predicted_laundering_type = laundering_types[y_pred[0]]\n",
    "\n",
    "print(f'Type of laundering: {predicted_laundering_type}')\n"
   ]
  },
  {
   "cell_type": "code",
   "execution_count": null,
   "id": "17773333-17d2-436f-b955-706b61f950f8",
   "metadata": {},
   "outputs": [],
   "source": [
    "# Define the input data (suspicious example)\n",
    "suspicious_data = {\n",
    "    'Time': ['02:00:00'],\n",
    "    'Date': ['15-08-2023'],\n",
    "    'Sender_account': ['1234567890'],\n",
    "    'Receiver_account': ['0987654321'],\n",
    "    'Amount': [25000.00],\n",
    "    'Payment_currency': ['US dollars'],\n",
    "    'Received_currency': ['US dollars'],\n",
    "    'Sender_bank_location': ['USA'],\n",
    "    'Receiver_bank_location': ['Cayman Islands'],\n",
    "    'Payment_type': ['Cross-border']\n",
    "}\n",
    "\n",
    "suspicious_df = pd.DataFrame(suspicious_data)\n",
    "\n",
    "# Preprocess the input data\n",
    "suspicious_df['Time'] = pd.to_datetime(suspicious_df['Date'] + ' ' + suspicious_df['Time'])\n",
    "suspicious_df['Date'] = pd.to_datetime(suspicious_df['Date'])\n",
    "suspicious_df['Time'] = suspicious_df['Time'].astype('int64') // 10**9\n",
    "suspicious_df['Date'] = suspicious_df['Date'].astype('int64') // 10**9\n",
    "suspicious_df = pd.get_dummies(suspicious_df, columns=['Payment_type', 'Sender_bank_location', 'Receiver_bank_location', 'Payment_currency', 'Received_currency'])\n",
    "\n",
    "# Ensure all required columns are present\n",
    "suspicious_df = suspicious_df.reindex(columns=X_train.columns, fill_value=0)\n",
    "\n",
    "# Make predictions using the trained model\n",
    "y_pred_suspicious = model.predict(suspicious_df)\n",
    "y_pred_proba_suspicious = model.predict_proba(suspicious_df)\n",
    "\n",
    "# Map prediction to class names\n",
    "is_laundering_suspicious = y_pred_suspicious[0]\n",
    "\n",
    "# Output the results\n",
    "print(f'Is the transaction suspicious? {\"Yes\" if is_laundering_suspicious else \"No\"}')\n",
    "\n",
    "# For Laundering type, assuming it's a classification problem with more classes\n",
    "# Example: ['Normal', 'Structuring', 'Large_Scale'] as possible labels\n",
    "laundering_types = ['Normal', 'Structuring', 'Large_Scale']\n",
    "predicted_laundering_type_suspicious = laundering_types[y_pred_suspicious[0]]\n",
    "\n",
    "print(f'Type of laundering: {predicted_laundering_type_suspicious}')\n"
   ]
  },
  {
   "cell_type": "code",
   "execution_count": 73,
   "id": "22c58493-3320-4b9b-8840-69d79f91e841",
   "metadata": {},
   "outputs": [
    {
     "name": "stdout",
     "output_type": "stream",
     "text": [
      "  Sender_account Receiver_account   Amount  Month  Payment_type_ACH  \\\n",
      "0     1234567890       0987654321  25000.0      0                 0   \n",
      "\n",
      "   Payment_type_Cash Deposit  Payment_type_Cash Withdrawal  \\\n",
      "0                          0                             0   \n",
      "\n",
      "   Payment_type_Cheque  Payment_type_Credit card  Payment_type_Cross-border  \\\n",
      "0                    0                         0                       True   \n",
      "\n",
      "   ...  Laundering_type_Normal_Periodical  Laundering_type_Normal_Plus_Mutual  \\\n",
      "0  ...                                  0                                   0   \n",
      "\n",
      "   Laundering_type_Normal_Small_Fan_Out  Laundering_type_Normal_single_large  \\\n",
      "0                                     0                                    0   \n",
      "\n",
      "   Laundering_type_Over-Invoicing  Laundering_type_Scatter-Gather  \\\n",
      "0                               0                               0   \n",
      "\n",
      "   Laundering_type_Single_large  Laundering_type_Smurfing  \\\n",
      "0                             0                         0   \n",
      "\n",
      "   Laundering_type_Stacked Bipartite  Laundering_type_Structuring  \n",
      "0                                  0                            0  \n",
      "\n",
      "[1 rows x 101 columns]\n"
     ]
    }
   ],
   "source": [
    "print(suspicious_df)"
   ]
  },
  {
   "cell_type": "code",
   "execution_count": null,
   "id": "7a34eb07-0d0b-465f-8af5-453cdd16ef5f",
   "metadata": {},
   "outputs": [],
   "source": [
    "import pandas as pd\n",
    "from sklearn.ensemble import RandomForestClassifier\n",
    "from sklearn.metrics import accuracy_score, classification_report\n",
    "\n",
    "# Load the dataset\n",
    "df = pd.read_csv('SAML-D.csv')\n",
    "\n",
    "# Randomly sample 200,000 rows from the dataset\n",
    "sampled_df = df.sample(n=200000, random_state=42)\n",
    "\n",
    "# Preprocessing: Remove 'Time' column and convert 'Date' to datetime\n",
    "sampled_df = sampled_df.drop(columns=['Time'])\n",
    "sampled_df['Date'] = pd.to_datetime(sampled_df['Date'], format='%Y-%m-%d')\n",
    "\n",
    "# Feature engineering: Extracting the month from the Date column\n",
    "sampled_df['Month'] = sampled_df['Date'].dt.month\n",
    "\n",
    "# Check if all required columns exist\n",
    "required_columns = ['Payment_type', 'Sender_bank_location', 'Receiver_bank_location', 'Payment_currency', 'Received_currency', 'Laundering_type']\n",
    "missing_columns = [col for col in required_columns if col not in sampled_df.columns]\n",
    "if missing_columns:\n",
    "    raise KeyError(f\"Missing columns in the DataFrame: {missing_columns}\")\n",
    "\n",
    "# One-hot encoding for categorical variables\n",
    "sampled_df = pd.get_dummies(sampled_df, columns=required_columns)\n",
    "\n",
    "# Split into training and testing sets\n",
    "train_data = sampled_df[sampled_df['Date'] < '2023-06-01']\n",
    "test_data = sampled_df[sampled_df['Date'] >= '2023-06-01']\n",
    "X_train = train_data.drop(columns=['Is_laundering', 'Date'])\n",
    "y_train = train_data['Is_laundering']\n",
    "X_test = test_data.drop(columns=['Is_laundering', 'Date'])\n",
    "y_test = test_data['Is_laundering']\n",
    "\n",
    "# Initialize and train the Random Forest model\n",
    "model = RandomForestClassifier(n_estimators=100, random_state=42)\n",
    "model.fit(X_train, y_train)\n",
    "\n",
    "# Define the input data (suspicious example)\n",
    "suspicious_data = {\n",
    "    'Time': ['02:00:00'],\n",
    "    'Date': ['15-08-2023'],\n",
    "    'Sender_account': ['1234567890'],\n",
    "    'Receiver_account': ['0987654321'],\n",
    "    'Amount': [25000.00],\n",
    "    'Payment_currency': ['US dollars'],\n",
    "    'Received_currency': ['US dollars'],\n",
    "    'Sender_bank_location': ['USA'],\n",
    "    'Receiver_bank_location': ['Cayman Islands'],\n",
    "    'Payment_type': ['Cross-border']\n",
    "}\n",
    "\n",
    "suspicious_df = pd.DataFrame(suspicious_data)\n",
    "\n",
    "# Preprocess the input data\n",
    "suspicious_df['Time'] = pd.to_datetime(suspicious_df['Date'] + ' ' + suspicious_df['Time'])\n",
    "suspicious_df['Date'] = pd.to_datetime(suspicious_df['Date'])\n",
    "suspicious_df['Time'] = suspicious_df['Time'].astype('int64') // 10**9\n",
    "suspicious_df['Date'] = suspicious_df['Date'].astype('int64') // 10**9\n",
    "suspicious_df = pd.get_dummies(suspicious_df, columns=['Payment_type', 'Sender_bank_location', 'Receiver_bank_location', 'Payment_currency', 'Received_currency'])\n",
    "\n",
    "# Ensure all required columns are present\n",
    "suspicious_df = suspicious_df.reindex(columns=X_train.columns, fill_value=0)\n",
    "\n",
    "# Make predictions using the trained model\n",
    "y_pred_suspicious = model.predict(suspicious_df)\n",
    "y_pred_proba_suspicious = model.predict_proba(suspicious_df)\n",
    "\n",
    "# Output the results\n",
    "is_laundering_suspicious = y_pred_suspicious[0]\n",
    "print(f'Is the transaction suspicious? {\"Yes\" if is_laundering_suspicious else \"No\"}')\n",
    "\n",
    "# For Laundering type, assuming it's a classification problem with more classes\n",
    "# Example: ['Normal', 'Structuring', 'Large_Scale'] as possible labels\n",
    "laundering_types = ['Normal', 'Structuring', 'Large_Scale']\n",
    "predicted_laundering_type_suspicious = laundering_types[y_pred_suspicious[0]]\n",
    "\n",
    "print(f'Type of laundering: {predicted_laundering_type_suspicious}')\n",
    "\n",
    "# Evaluate the model's performance on the test set\n",
    "y_test_pred = model.predict(X_test)\n",
    "print(\"Test Set Evaluation:\")\n",
    "print(classification_report(y_test, y_test_pred))\n",
    "accuracy = accuracy_score(y_test, y_test_pred)\n",
    "print(f'Accuracy: {accuracy:.2f}')\n",
    "\n",
    "# Feature importance\n",
    "import matplotlib.pyplot as plt\n",
    "feature_importances = pd.Series(model.feature_importances_, index=X_train.columns)\n",
    "feature_importances.nlargest(10).plot(kind='barh')\n",
    "plt.show()\n"
   ]
  },
  {
   "cell_type": "code",
   "execution_count": null,
   "id": "4dd80fc3-e97b-4994-8dac-d8cc9377a0e7",
   "metadata": {},
   "outputs": [],
   "source": []
  }
 ],
 "metadata": {
  "kernelspec": {
   "display_name": "Python 3 (ipykernel)",
   "language": "python",
   "name": "python3"
  },
  "language_info": {
   "codemirror_mode": {
    "name": "ipython",
    "version": 3
   },
   "file_extension": ".py",
   "mimetype": "text/x-python",
   "name": "python",
   "nbconvert_exporter": "python",
   "pygments_lexer": "ipython3",
   "version": "3.12.1"
  }
 },
 "nbformat": 4,
 "nbformat_minor": 5
}
